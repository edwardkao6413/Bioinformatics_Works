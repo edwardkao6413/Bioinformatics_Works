{
 "cells": [
  {
   "cell_type": "code",
   "execution_count": 1,
   "id": "2fecddfc-5165-45bd-bf5e-1dad580631dc",
   "metadata": {
    "tags": []
   },
   "outputs": [],
   "source": [
    "import pandas as pd\n",
    "import numpy as np\n",
    "pd.set_option('display.max_columns', 50)\n",
    "pd.set_option('display.max_rows', 50)\n",
    "# import tabula\n",
    "import composition_stats as cs\n",
    "from pandasql import sqldf\n",
    "import math\n",
    "from scipy.stats import chi2\n",
    "from scipy import stats\n",
    "from matplotlib import pyplot as plt"
   ]
  },
  {
   "cell_type": "code",
   "execution_count": 2,
   "id": "d5047a90-5a50-4e6b-afdc-b0d9b5a8fb4b",
   "metadata": {
    "tags": []
   },
   "outputs": [],
   "source": [
    "def low_counts_rm(data_offset, thres = 0.01):\n",
    "    col_sum = data_offset.sum(axis = 0)\n",
    "    ttl_sum = col_sum.sum()\n",
    "    keep_otu = col_sum[(col_sum * 100 / ttl_sum) > thres].index\n",
    "    data_offset_v2 = data_offset[keep_otu]\n",
    "    data_offset_v2 = data_offset_v2.astype(float)\n",
    "    return data_offset_v2, keep_otu\n",
    "\n",
    "def split_processing_single(data):\n",
    "    data_hea = data[data['Disease'] == 'Healthy'].reset_index().drop(['index'], axis = 1)\n",
    "    data_t2d = data[data['Disease'] == 'T2D'].reset_index().drop(['index'], axis = 1)\n",
    "    data_hea_offset = data_hea.drop(['Disease', 'sample_id'], axis = 1) # + data_hea.min()[1:-1].min()\n",
    "    data_t2d_offset = data_t2d.drop(['Disease', 'sample_id'], axis = 1) # + data_t2d.min()[1:-1].min()\n",
    "    data_heainfo = low_counts_rm(data_hea_offset)\n",
    "    data_t2dinfo = low_counts_rm(data_t2d_offset)\n",
    "    Union_taxa = list(set(data_heainfo[1]) | set(data_t2dinfo[1]))\n",
    "    data_v1 = data[Union_taxa]\n",
    "    # data_v1 += 1\n",
    "    data_v1 = data_v1.astype('float64')\n",
    "    # data_v1['BioProject'] = data['BioProject']\n",
    "    data_v1['Disease'] = data['Disease']\n",
    "    data_v1['sample_id'] = data['sample_id']\n",
    "    return data_v1\n",
    "\n",
    "def clr_trans_modify(data, last_ver_data, offset = 1):\n",
    "    if 'disease' in list(data.columns):\n",
    "        return 'drop disease column at first'\n",
    "    data_v1 = pd.DataFrame(cs.clr(cs.closure(data + offset)))\n",
    "    data_v1.columns = list(data.columns)\n",
    "    data_v1['disease'] = last_ver_data['Disease']\n",
    "    # data_v1['sample_id'] = last_ver_data['sample_id']\n",
    "    # data_v1['study'] = study_name\n",
    "    return data_v1"
   ]
  },
  {
   "cell_type": "markdown",
   "id": "1179245a-87a2-44ae-9914-5663fb43991e",
   "metadata": {},
   "source": [
    "----------------------------"
   ]
  },
  {
   "cell_type": "code",
   "execution_count": 4,
   "id": "06678d0c-e575-4eeb-923a-cdef8c27d30e",
   "metadata": {
    "tags": []
   },
   "outputs": [],
   "source": [
    "sample_md = pd.read_excel(\"sample_metadata.xlsx\")\n",
    "abund_data = pd.read_csv(\"vect_atlas.csv\")\n",
    "corr_taxa = pd.read_csv(\"corresponding_taxa.csv\")"
   ]
  },
  {
   "cell_type": "code",
   "execution_count": 7,
   "id": "5150f022-f024-49ca-b051-00c35d8d7f1f",
   "metadata": {},
   "outputs": [],
   "source": [
    "# Derive the metadata relevant to T2D studies\n",
    "study1_metadata = sample_md[sample_md['BioProject'] == 'PRJNA422434'].reset_index(drop = True)  # PRJNA422434\n",
    "study2_metadata = sample_md[sample_md['BioProject'] == 'PRJEB1786'].reset_index(drop = True)    # PRJEB1786\n",
    "study3_metadata = sample_md[sample_md['BioProject'] == 'PRJNA361402'].reset_index(drop = True)  # PRJNA361402"
   ]
  },
  {
   "cell_type": "code",
   "execution_count": null,
   "id": "2e39a60c-4a6b-49c8-94e0-8da008c5ed61",
   "metadata": {},
   "outputs": [],
   "source": [
    "metadata = study1_metadata\n",
    "# metadata = study2_metadata\n",
    "# metadata = study3_metadata"
   ]
  },
  {
   "cell_type": "code",
   "execution_count": null,
   "id": "328e5777-19f5-46b2-aa1c-6c449ce65c08",
   "metadata": {},
   "outputs": [],
   "source": [
    "metadata = metadata[metadata['Disease'].isin(['T2D', 'Healthy', 'NGT'])].reset_index(drop = True)\n",
    "sp_id = list(metadata['sample.ID'])\n",
    "rawdata = abund_data[sp_id + ['Unnamed: 0']]\n",
    "rawdata = rawdata.merge(corr_taxa, how = 'left', left_on = ['Unnamed: 0'], right_on = ['id']).drop(['Unnamed: 0', 'id'], axis = 1)\n",
    "\n",
    "taxa_lst = list(rawdata['name'])\n",
    "rawdata_v1 = rawdata.drop(['name'], axis = 1).T\n",
    "rawdata_v1.columns = taxa_lst\n",
    "rawdata_v1 = rawdata_v1.reset_index().rename(columns = {'index':'sample_id'})\n",
    "rawdata_v1 = rawdata_v1.merge(metadata[['sample.ID', 'Disease']], how = 'left', left_on = ['sample_id'], right_on = ['sample.ID']).drop(['sample.ID'], axis = 1)"
   ]
  },
  {
   "cell_type": "code",
   "execution_count": 10,
   "id": "77197c6a-7028-4a7f-b958-d52bed95b2b8",
   "metadata": {},
   "outputs": [],
   "source": [
    "drop_cols = [taxa for taxa in taxa_lst if 'unclassified' in taxa]\n",
    "rawdata_v1 = rawdata_v1.drop(drop_cols, axis = 1)"
   ]
  },
  {
   "cell_type": "code",
   "execution_count": 11,
   "id": "718fdb50-9fc6-432e-ae22-f468fe9a2a81",
   "metadata": {},
   "outputs": [],
   "source": [
    "drop_cols = [taxa for taxa in list(rawdata_v1.columns)[1:-1] if len(rawdata_v1[taxa].unique()) == 1]\n",
    "rawdata_v1 = rawdata_v1.drop(drop_cols, axis = 1)"
   ]
  },
  {
   "cell_type": "code",
   "execution_count": 12,
   "id": "a970d17a-5e1e-47f7-a8e0-2a380f579271",
   "metadata": {},
   "outputs": [],
   "source": [
    "rawdata_v2 = split_processing_single(rawdata_v1)"
   ]
  },
  {
   "cell_type": "code",
   "execution_count": 13,
   "id": "f8e4fc5f-d24b-4693-88b5-63914cb5d59f",
   "metadata": {},
   "outputs": [],
   "source": [
    "rawdata_sty1 = clr_trans_modify(rawdata_v2.drop(['Disease', 'sample_id'], axis = 1), rawdata_v1, offset = rawdata_v1[rawdata_v1.iloc[:, 1:-1] > 0].min().min())"
   ]
  },
  {
   "cell_type": "code",
   "execution_count": 14,
   "id": "0989b9ea-22d7-48b6-ba21-8782149f0214",
   "metadata": {},
   "outputs": [],
   "source": [
    "rawdata_sty1.loc[rawdata_sty1['disease'] == 'Healthy', 'disease'] = 'healthy'\n",
    "rawdata_sty1.loc[rawdata_sty1['disease'] == 'NGT', 'disease'] = 'healthy'"
   ]
  },
  {
   "cell_type": "code",
   "execution_count": 16,
   "id": "bdd57f94-85fe-4885-a8e6-63587f619619",
   "metadata": {},
   "outputs": [],
   "source": [
    "rawdata_sty1.to_csv(\"processed_data.csv\", index = False)"
   ]
  }
 ],
 "metadata": {
  "kernelspec": {
   "display_name": "Python 3 (ipykernel)",
   "language": "python",
   "name": "python3"
  },
  "language_info": {
   "codemirror_mode": {
    "name": "ipython",
    "version": 3
   },
   "file_extension": ".py",
   "mimetype": "text/x-python",
   "name": "python",
   "nbconvert_exporter": "python",
   "pygments_lexer": "ipython3",
   "version": "3.12.7"
  }
 },
 "nbformat": 4,
 "nbformat_minor": 5
}
